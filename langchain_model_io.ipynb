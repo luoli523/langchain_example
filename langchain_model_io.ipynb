{
 "cells": [
  {
   "cell_type": "code",
   "execution_count": 5,
   "id": "ee375a8f",
   "metadata": {},
   "outputs": [],
   "source": [
    "from langchain_community.llms import Ollama\n",
    "from langchain_community.chat_models import ChatOllama\n",
    "\n",
    "llm = Ollama(model=\"llama3\")\n",
    "chat_model = ChatOllama()"
   ]
  },
  {
   "cell_type": "code",
   "execution_count": 6,
   "id": "e900eaf6",
   "metadata": {},
   "outputs": [
    {
     "data": {
      "text/plain": [
       "\"What a fun question!\\n\\nHere are some company name ideas for a company that makes colorful socks:\\n\\n1. **Sock Squad**: A playful name that suggests the company is part of an exclusive group that loves colorful socks.\\n2. **Toe Tales**: A whimsical name that references the toe-tally awesome designs on your socks.\\n3. **Vibrant Vibes**: This name captures the energetic and lively vibe of colorful socks.\\n4. **Heel Happy Socks**: A cheerful name that promises to put a spring in people's steps with every pair they wear.\\n5. **Color Craze Socks**: A name that leans into the excitement and passion for colorful, playful socks.\\n6. **Sole Mates**: A cute name that plays on the idea of finding your perfect match (in this case, a great sock).\\n7. **Footloose & Fancy Free**: A fun name that evokes the carefree spirit of wearing colorful socks with pride.\\n8. **Kaleidoscope Kicks**: This name references the vibrant colors and playful patterns on your socks, while also emphasizing their unique style.\\n9. **Socktopia**: A fantastical name that suggests a world where colorful socks are always in fashion and fun.\\n10. **Hue Hub Socks**: A clever name that highlights the variety of colors and hues you offer.\\n\\nWhich one do you like best?\""
      ]
     },
     "execution_count": 6,
     "metadata": {},
     "output_type": "execute_result"
    }
   ],
   "source": [
    "text = \"What would be a good company name for a company that makes colorful socks?\"\n",
    "llm.invoke(text)\n",
    "# >> Feetful of Fun"
   ]
  },
  {
   "cell_type": "code",
   "execution_count": 7,
   "id": "f52fccf4",
   "metadata": {},
   "outputs": [
    {
     "data": {
      "text/plain": [
       "AIMessage(content='\\nHere are some suggestions for a company name that makes colorful socks:\\n\\n1. SoleMates - a play on the phrase \"soul mates\" that highlights the idea of socks being a perfect match for your feet.\\n2. Footloose & Fancy Free - a fun, lighthearted name that evokes the feeling of being carefree and having fun with your sock choices.\\n3. Hues & Views - a clever play on words that combines \"hues,\" which refers to colors, with \"views,\" which could refer to the different designs or patterns available in the company\\'s socks.\\n4. Toes-tally Trendy - a cheeky name that leans into the idea of being trendy and fashionable, while also incorporating the idea of toes.\\n5. Socktopus - a fun, whimsical name that combines \"sock\" with \"octopus,\" which could suggest a playful, eye-catching sock design.\\n6. Ankle Artistry - a name that emphasizes the creativity and craftsmanship that goes into each pair of socks.\\n7. Feet First - a simple, straightforward name that emphasizes the idea of taking care of your feet first, which could also suggest a focus on quality and comfort.\\n8. The Sock Shop - a classic, straightforward name that suggests a wide variety of socks available for purchase.\\n9. Peds & Co. - a playful name that combines \"peds,\" which is short for \"feet,\" with \"company,\" which could suggest a fun, approachable business.\\n10. SoleMate Society - a name that suggests a sense of community and belonging, while also highlighting the idea of each sock being a perfect match for your feet.\\n\\nI hope one of these names sparks some inspiration for your company!', response_metadata={'model': 'llama2', 'created_at': '2024-05-07T07:10:49.83492Z', 'message': {'role': 'assistant', 'content': ''}, 'done': True, 'total_duration': 16790182917, 'load_duration': 4985205125, 'prompt_eval_count': 37, 'prompt_eval_duration': 240964000, 'eval_count': 411, 'eval_duration': 11562342000}, id='run-f7c24204-4aa7-47c6-95e7-47424dd79ede-0')"
      ]
     },
     "execution_count": 7,
     "metadata": {},
     "output_type": "execute_result"
    }
   ],
   "source": [
    "from langchain_core.messages import HumanMessage\n",
    "\n",
    "messages = [HumanMessage(content=text)]\n",
    "\n",
    "chat_model.invoke(messages)\n",
    "# >> AIMessage(content=\"Socks O'Color\")"
   ]
  },
  {
   "cell_type": "code",
   "execution_count": 8,
   "id": "676041ac",
   "metadata": {},
   "outputs": [
    {
     "data": {
      "text/plain": [
       "'What is a good name for a company that makes colorful socks?'"
      ]
     },
     "execution_count": 8,
     "metadata": {},
     "output_type": "execute_result"
    }
   ],
   "source": [
    "from langchain_core.prompts import PromptTemplate\n",
    "\n",
    "prompt = PromptTemplate.from_template(\"What is a good name for a company that makes {product}?\")\n",
    "prompt.format(product=\"colorful socks\")"
   ]
  },
  {
   "cell_type": "code",
   "execution_count": 9,
   "id": "f98c5415",
   "metadata": {},
   "outputs": [
    {
     "data": {
      "text/plain": [
       "[SystemMessage(content='You are a helpful assistant that translates English to Chinese.'),\n",
       " HumanMessage(content='I love programming.')]"
      ]
     },
     "execution_count": 9,
     "metadata": {},
     "output_type": "execute_result"
    }
   ],
   "source": [
    "from langchain_core.prompts.chat import ChatPromptTemplate\n",
    "\n",
    "template = \"You are a helpful assistant that translates {input_language} to {output_language}.\"\n",
    "human_template = \"{text}\"\n",
    "\n",
    "chat_prompt = ChatPromptTemplate.from_messages([\n",
    "    (\"system\", template),\n",
    "    (\"human\", human_template),\n",
    "])\n",
    "\n",
    "chat_prompt.format_messages(input_language=\"English\", output_language=\"Chinese\", text=\"I love programming.\")"
   ]
  },
  {
   "cell_type": "code",
   "execution_count": 10,
   "id": "935cf8e0",
   "metadata": {},
   "outputs": [
    {
     "data": {
      "text/plain": [
       "['hi', 'bye']"
      ]
     },
     "execution_count": 10,
     "metadata": {},
     "output_type": "execute_result"
    }
   ],
   "source": [
    "from langchain.output_parsers import CommaSeparatedListOutputParser\n",
    "\n",
    "output_parser = CommaSeparatedListOutputParser()\n",
    "output_parser.parse(\"hi, bye\")\n",
    "# >> ['hi', 'bye']"
   ]
  },
  {
   "cell_type": "code",
   "execution_count": 11,
   "id": "13052edf",
   "metadata": {},
   "outputs": [
    {
     "data": {
      "text/plain": [
       "['Of course! Here are 5 colors:\\n\\nRed', 'Green', 'Blue', 'Yellow', 'Purple']"
      ]
     },
     "execution_count": 11,
     "metadata": {},
     "output_type": "execute_result"
    }
   ],
   "source": [
    "template = \"Generate a list of 5 {text}.\\n\\n{format_instructions}\"\n",
    "\n",
    "chat_prompt = ChatPromptTemplate.from_template(template)\n",
    "chat_prompt = chat_prompt.partial(format_instructions=output_parser.get_format_instructions())\n",
    "chain = chat_prompt | chat_model | output_parser\n",
    "chain.invoke({\"text\": \"colors\"})\n",
    "# >> ['red', 'blue', 'green', 'yellow', 'orange']"
   ]
  },
  {
   "cell_type": "code",
   "execution_count": null,
   "id": "af170ba7",
   "metadata": {},
   "outputs": [],
   "source": []
  }
 ],
 "metadata": {
  "kernelspec": {
   "display_name": "Python 3 (ipykernel)",
   "language": "python",
   "name": "python3"
  },
  "language_info": {
   "codemirror_mode": {
    "name": "ipython",
    "version": 3
   },
   "file_extension": ".py",
   "mimetype": "text/x-python",
   "name": "python",
   "nbconvert_exporter": "python",
   "pygments_lexer": "ipython3",
   "version": "3.9.6"
  }
 },
 "nbformat": 4,
 "nbformat_minor": 5
}
